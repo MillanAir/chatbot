{
 "cells": [
  {
   "cell_type": "markdown",
   "metadata": {},
   "source": [
    "# Querying SQL database using langchain"
   ]
  },
  {
   "cell_type": "markdown",
   "metadata": {},
   "source": [
    "Importing lanchain and openAI"
   ]
  },
  {
   "cell_type": "code",
   "execution_count": null,
   "metadata": {},
   "outputs": [],
   "source": [
    "!pip install langchain langchain-experimental openai\n",
    "from langchain.utilities import SQLDatabase\n",
    "from langchain.llms import OpenAI\n",
    "from langchain_experimental.sql import SQLDatabaseChain"
   ]
  },
  {
   "cell_type": "markdown",
   "metadata": {},
   "source": [
    "Defining openai api key"
   ]
  },
  {
   "cell_type": "code",
   "execution_count": 22,
   "metadata": {},
   "outputs": [],
   "source": [
    "from dotenv import load_dotenv\n",
    "import os\n",
    "import streamlit as st\n",
    "from langchain.llms import OpenAI\n",
    "\n",
    "load_dotenv()  # take environment variables from .env.\n",
    "API_KEY = os.environ['OPENAI_API_KEY']"
   ]
  },
  {
   "cell_type": "code",
   "execution_count": 23,
   "metadata": {},
   "outputs": [],
   "source": [
    "llm = OpenAI(openai_api_key='API_KEY', temperature=0.9)"
   ]
  },
  {
   "cell_type": "markdown",
   "metadata": {},
   "source": [
    "Creating Langchain SQL Agent"
   ]
  },
  {
   "cell_type": "code",
   "execution_count": null,
   "metadata": {},
   "outputs": [],
   "source": [
    "import openai\n",
    "import sqlite3\n",
    "import streamlit as st"
   ]
  },
  {
   "cell_type": "code",
   "execution_count": null,
   "metadata": {},
   "outputs": [],
   "source": [
    "db = SQLDatabase.from_uri(\"sqlite:///Chinook.db\")\n",
    "llm = OpenAI(temperature=0, verbose=True, openai_api_key='API_KEY')\n",
    "db_chain = SQLDatabaseChain.from_llm(llm, db, verbose=True)"
   ]
  },
  {
   "cell_type": "code",
   "execution_count": null,
   "metadata": {},
   "outputs": [],
   "source": [
    "db_chain.run(\"How many employees are there?\")"
   ]
  },
  {
   "cell_type": "markdown",
   "metadata": {},
   "source": [
    "Streamlit UI"
   ]
  },
  {
   "cell_type": "code",
   "execution_count": null,
   "metadata": {},
   "outputs": [],
   "source": [
    "st.title(\"SQL Chatbot\")\n",
    "# Set up OpenAI API\n",
    "api_key = st.text_input(\"Enter your OpenAI API token\")\n",
    "\n",
    "# File uploader\n",
    "uploaded_file = st.file_uploader(\"Upload SQL or SQLite file\", type=[\"sql\", \"sqlite\"])\n",
    "\n",
    "# Chat window\n",
    "query = st.text_input(\"Enter your query\")\n",
    "\n",
    "# Submit query button\n",
    "if st.button(\"Submit Query\"):\n",
    "    if uploaded_file is not None:\n",
    "        if api_key is not None:\n",
    "            llm = OpenAI(temperature=0, verbose=True, openai_api_key=api_key)\n",
    "            # Convert uploaded file to BytesIO object\n",
    "            db = SQLDatabase.from_uri(\"sqlite:///Chinook_SQLite\") #code review for uploaded file\n",
    "            db_chain = SQLDatabaseChain.from_llm(llm, db, verbose=True)\n",
    "            st.write(db_chain.run(query))  # Display the result\n",
    "        else:\n",
    "            st.write(\"Please add your OpenAI API key to continue.\")\n",
    "    else:\n",
    "        st.write(\"Please upload a file first.\")"
   ]
  }
 ],
 "metadata": {
  "kernelspec": {
   "display_name": "base",
   "language": "python",
   "name": "python3"
  },
  "language_info": {
   "codemirror_mode": {
    "name": "ipython",
    "version": 3
   },
   "file_extension": ".py",
   "mimetype": "text/x-python",
   "name": "python",
   "nbconvert_exporter": "python",
   "pygments_lexer": "ipython3",
   "version": "3.9.13"
  },
  "orig_nbformat": 4
 },
 "nbformat": 4,
 "nbformat_minor": 2
}
